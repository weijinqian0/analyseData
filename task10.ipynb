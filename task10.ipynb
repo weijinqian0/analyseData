{
 "cells": [
  {
   "cell_type": "code",
   "execution_count": 11,
   "metadata": {},
   "outputs": [
    {
     "data": {
      "text/plain": [
       "datetime.datetime(2019, 7, 16, 22, 3, 29, 172766)"
      ]
     },
     "execution_count": 11,
     "metadata": {},
     "output_type": "execute_result"
    }
   ],
   "source": [
    "from datetime import datetime\n",
    "now = datetime.now()\n",
    "now\n"
   ]
  },
  {
   "cell_type": "code",
   "execution_count": 12,
   "metadata": {},
   "outputs": [
    {
     "data": {
      "text/plain": [
       "(2019, 7, 16)"
      ]
     },
     "execution_count": 12,
     "metadata": {},
     "output_type": "execute_result"
    }
   ],
   "source": [
    "now.year, now.month, now.day"
   ]
  },
  {
   "cell_type": "code",
   "execution_count": 4,
   "metadata": {},
   "outputs": [
    {
     "data": {
      "text/plain": [
       "datetime.timedelta(days=926, seconds=56700)"
      ]
     },
     "execution_count": 4,
     "metadata": {},
     "output_type": "execute_result"
    }
   ],
   "source": [
    "datetime(2011, 1, 7) - datetime(2008, 6, 24, 8, 15)"
   ]
  },
  {
   "cell_type": "code",
   "execution_count": 10,
   "metadata": {},
   "outputs": [
    {
     "data": {
      "text/plain": [
       "datetime.timedelta(days=926, seconds=56700)"
      ]
     },
     "execution_count": 10,
     "metadata": {},
     "output_type": "execute_result"
    }
   ],
   "source": [
    "delta = datetime(2011, 1, 7) - datetime(2008, 6, 24, 8, 15)\n",
    "delta"
   ]
  },
  {
   "cell_type": "code",
   "execution_count": 13,
   "metadata": {},
   "outputs": [
    {
     "data": {
      "text/plain": [
       "926"
      ]
     },
     "execution_count": 13,
     "metadata": {},
     "output_type": "execute_result"
    }
   ],
   "source": [
    "delta.days"
   ]
  },
  {
   "cell_type": "code",
   "execution_count": 14,
   "metadata": {},
   "outputs": [
    {
     "data": {
      "text/plain": [
       "56700"
      ]
     },
     "execution_count": 14,
     "metadata": {},
     "output_type": "execute_result"
    }
   ],
   "source": [
    "delta.seconds"
   ]
  },
  {
   "cell_type": "code",
   "execution_count": 15,
   "metadata": {},
   "outputs": [
    {
     "data": {
      "text/plain": [
       "datetime.datetime(2011, 1, 19, 0, 0)"
      ]
     },
     "execution_count": 15,
     "metadata": {},
     "output_type": "execute_result"
    }
   ],
   "source": [
    "from datetime import timedelta\n",
    "start = datetime(2011, 1, 7)\n",
    "start + timedelta(12)"
   ]
  },
  {
   "cell_type": "code",
   "execution_count": 16,
   "metadata": {},
   "outputs": [
    {
     "data": {
      "text/plain": [
       "datetime.datetime(2010, 12, 14, 0, 0)"
      ]
     },
     "execution_count": 16,
     "metadata": {},
     "output_type": "execute_result"
    }
   ],
   "source": [
    "start - 2 * timedelta(12)"
   ]
  },
  {
   "cell_type": "code",
   "execution_count": 17,
   "metadata": {},
   "outputs": [],
   "source": [
    "stamp = datetime(2011, 1, 3)"
   ]
  },
  {
   "cell_type": "code",
   "execution_count": 18,
   "metadata": {},
   "outputs": [
    {
     "data": {
      "text/plain": [
       "'2011-01-03 00:00:00'"
      ]
     },
     "execution_count": 18,
     "metadata": {},
     "output_type": "execute_result"
    }
   ],
   "source": [
    "str(stamp)"
   ]
  },
  {
   "cell_type": "code",
   "execution_count": 19,
   "metadata": {},
   "outputs": [
    {
     "data": {
      "text/plain": [
       "'2011-01-03'"
      ]
     },
     "execution_count": 19,
     "metadata": {},
     "output_type": "execute_result"
    }
   ],
   "source": [
    "stamp.strftime('%Y-%m-%d')"
   ]
  },
  {
   "cell_type": "code",
   "execution_count": 20,
   "metadata": {},
   "outputs": [
    {
     "data": {
      "text/plain": [
       "[datetime.datetime(2011, 1, 2, 0, 0),\n",
       " datetime.datetime(2011, 1, 5, 0, 0),\n",
       " datetime.datetime(2011, 1, 7, 0, 0),\n",
       " datetime.datetime(2011, 1, 8, 0, 0),\n",
       " datetime.datetime(2011, 1, 10, 0, 0),\n",
       " datetime.datetime(2011, 1, 12, 0, 0)]"
      ]
     },
     "execution_count": 20,
     "metadata": {},
     "output_type": "execute_result"
    }
   ],
   "source": [
    "from datetime import datetime\n",
    "dates = [datetime(2011, 1, 2), datetime(2011, 1, 5),\n",
    "           datetime(2011, 1, 7), datetime(2011, 1, 8),\n",
    "            datetime(2011, 1, 10), datetime(2011, 1, 12)]\n",
    "dates\n"
   ]
  },
  {
   "cell_type": "code",
   "execution_count": 23,
   "metadata": {},
   "outputs": [],
   "source": [
    "import pandas as pd\n",
    "import numpy as np\n",
    "ts = pd.Series(np.random.randn(6), index=dates)"
   ]
  },
  {
   "cell_type": "code",
   "execution_count": 24,
   "metadata": {},
   "outputs": [
    {
     "data": {
      "text/plain": [
       "2011-01-02    0.889959\n",
       "2011-01-05    0.966939\n",
       "2011-01-07   -0.138319\n",
       "2011-01-08   -0.410849\n",
       "2011-01-10    0.275450\n",
       "2011-01-12    0.122967\n",
       "dtype: float64"
      ]
     },
     "execution_count": 24,
     "metadata": {},
     "output_type": "execute_result"
    }
   ],
   "source": [
    "ts"
   ]
  },
  {
   "cell_type": "code",
   "execution_count": 25,
   "metadata": {},
   "outputs": [
    {
     "data": {
      "text/plain": [
       "DatetimeIndex(['2011-01-02', '2011-01-05', '2011-01-07', '2011-01-08',\n",
       "               '2011-01-10', '2011-01-12'],\n",
       "              dtype='datetime64[ns]', freq=None)"
      ]
     },
     "execution_count": 25,
     "metadata": {},
     "output_type": "execute_result"
    }
   ],
   "source": [
    "ts.index"
   ]
  },
  {
   "cell_type": "code",
   "execution_count": 26,
   "metadata": {},
   "outputs": [
    {
     "data": {
      "text/plain": [
       "2011-01-02    1.779917\n",
       "2011-01-05         NaN\n",
       "2011-01-07   -0.276637\n",
       "2011-01-08         NaN\n",
       "2011-01-10    0.550901\n",
       "2011-01-12         NaN\n",
       "dtype: float64"
      ]
     },
     "execution_count": 26,
     "metadata": {},
     "output_type": "execute_result"
    }
   ],
   "source": [
    "ts + ts[::2]"
   ]
  },
  {
   "cell_type": "code",
   "execution_count": 27,
   "metadata": {},
   "outputs": [
    {
     "data": {
      "text/plain": [
       "dtype('<M8[ns]')"
      ]
     },
     "execution_count": 27,
     "metadata": {},
     "output_type": "execute_result"
    }
   ],
   "source": [
    "ts.index.dtype"
   ]
  },
  {
   "cell_type": "code",
   "execution_count": 28,
   "metadata": {},
   "outputs": [],
   "source": [
    "stamp = ts.index[0]"
   ]
  },
  {
   "cell_type": "code",
   "execution_count": 29,
   "metadata": {},
   "outputs": [
    {
     "data": {
      "text/plain": [
       "Timestamp('2011-01-02 00:00:00')"
      ]
     },
     "execution_count": 29,
     "metadata": {},
     "output_type": "execute_result"
    }
   ],
   "source": [
    "stamp"
   ]
  },
  {
   "cell_type": "code",
   "execution_count": 30,
   "metadata": {},
   "outputs": [],
   "source": [
    "stamp = ts.index[2]"
   ]
  },
  {
   "cell_type": "code",
   "execution_count": 31,
   "metadata": {},
   "outputs": [
    {
     "data": {
      "text/plain": [
       "-0.1383187396024594"
      ]
     },
     "execution_count": 31,
     "metadata": {},
     "output_type": "execute_result"
    }
   ],
   "source": [
    "ts[stamp]"
   ]
  },
  {
   "cell_type": "code",
   "execution_count": 32,
   "metadata": {},
   "outputs": [
    {
     "data": {
      "text/plain": [
       "0.27545043194102353"
      ]
     },
     "execution_count": 32,
     "metadata": {},
     "output_type": "execute_result"
    }
   ],
   "source": [
    "ts['1/10/2011']"
   ]
  },
  {
   "cell_type": "code",
   "execution_count": 33,
   "metadata": {},
   "outputs": [
    {
     "data": {
      "text/plain": [
       "0.27545043194102353"
      ]
     },
     "execution_count": 33,
     "metadata": {},
     "output_type": "execute_result"
    }
   ],
   "source": [
    "ts['20110110']"
   ]
  },
  {
   "cell_type": "code",
   "execution_count": 34,
   "metadata": {},
   "outputs": [],
   "source": [
    "longer_ts = pd.Series(np.random.randn(1000),\n",
    "                     index=pd.date_range('1/1/2000',\n",
    "periods=1000))"
   ]
  },
  {
   "cell_type": "code",
   "execution_count": 35,
   "metadata": {},
   "outputs": [
    {
     "data": {
      "text/plain": [
       "2000-01-01    0.379497\n",
       "2000-01-02    0.704070\n",
       "2000-01-03   -1.005734\n",
       "2000-01-04   -0.018062\n",
       "2000-01-05   -0.522719\n",
       "2000-01-06    0.506533\n",
       "2000-01-07   -1.487409\n",
       "2000-01-08    0.625521\n",
       "2000-01-09    0.402739\n",
       "2000-01-10    0.550547\n",
       "2000-01-11    1.135383\n",
       "2000-01-12    0.099674\n",
       "2000-01-13   -0.131608\n",
       "2000-01-14    0.134370\n",
       "2000-01-15   -0.226380\n",
       "2000-01-16    1.190788\n",
       "2000-01-17    0.211051\n",
       "2000-01-18   -0.810756\n",
       "2000-01-19   -0.075414\n",
       "2000-01-20   -0.817253\n",
       "2000-01-21   -1.800206\n",
       "2000-01-22    0.702377\n",
       "2000-01-23    0.372534\n",
       "2000-01-24   -1.266749\n",
       "2000-01-25    0.510394\n",
       "2000-01-26   -0.867267\n",
       "2000-01-27   -0.555311\n",
       "2000-01-28   -0.004757\n",
       "2000-01-29   -1.137799\n",
       "2000-01-30    1.135691\n",
       "                ...   \n",
       "2002-08-28   -1.009861\n",
       "2002-08-29    0.826499\n",
       "2002-08-30    0.899053\n",
       "2002-08-31    1.058963\n",
       "2002-09-01    1.699214\n",
       "2002-09-02    0.357514\n",
       "2002-09-03   -0.590560\n",
       "2002-09-04   -1.604447\n",
       "2002-09-05    1.927142\n",
       "2002-09-06    0.487641\n",
       "2002-09-07   -1.007413\n",
       "2002-09-08   -0.291960\n",
       "2002-09-09   -0.222089\n",
       "2002-09-10   -0.065040\n",
       "2002-09-11    0.112237\n",
       "2002-09-12    1.038691\n",
       "2002-09-13    0.078050\n",
       "2002-09-14   -0.295243\n",
       "2002-09-15    0.115782\n",
       "2002-09-16    1.142985\n",
       "2002-09-17    0.316598\n",
       "2002-09-18   -0.963956\n",
       "2002-09-19   -0.640431\n",
       "2002-09-20    0.436234\n",
       "2002-09-21    2.415229\n",
       "2002-09-22    0.687862\n",
       "2002-09-23    0.750247\n",
       "2002-09-24    0.516267\n",
       "2002-09-25   -0.072631\n",
       "2002-09-26    0.257617\n",
       "Freq: D, Length: 1000, dtype: float64"
      ]
     },
     "execution_count": 35,
     "metadata": {},
     "output_type": "execute_result"
    }
   ],
   "source": [
    "longer_ts"
   ]
  },
  {
   "cell_type": "code",
   "execution_count": 36,
   "metadata": {},
   "outputs": [
    {
     "data": {
      "text/plain": [
       "2001-01-01   -0.177713\n",
       "2001-01-02   -0.797263\n",
       "2001-01-03    0.394973\n",
       "2001-01-04   -0.562620\n",
       "2001-01-05    0.412595\n",
       "2001-01-06    1.217361\n",
       "2001-01-07   -0.508189\n",
       "2001-01-08   -0.456147\n",
       "2001-01-09    1.152702\n",
       "2001-01-10    0.244593\n",
       "2001-01-11    1.111214\n",
       "2001-01-12    0.783913\n",
       "2001-01-13   -1.077433\n",
       "2001-01-14    0.299228\n",
       "2001-01-15    0.213995\n",
       "2001-01-16   -1.051550\n",
       "2001-01-17    1.606320\n",
       "2001-01-18   -0.234722\n",
       "2001-01-19   -0.461460\n",
       "2001-01-20    0.124896\n",
       "2001-01-21    0.878701\n",
       "2001-01-22   -1.726089\n",
       "2001-01-23    0.743159\n",
       "2001-01-24    0.687308\n",
       "2001-01-25   -0.922658\n",
       "2001-01-26    0.523811\n",
       "2001-01-27   -0.923655\n",
       "2001-01-28    1.223010\n",
       "2001-01-29    0.691940\n",
       "2001-01-30   -1.028157\n",
       "                ...   \n",
       "2001-12-02    1.780216\n",
       "2001-12-03    1.172017\n",
       "2001-12-04    1.567734\n",
       "2001-12-05   -1.073669\n",
       "2001-12-06    1.148879\n",
       "2001-12-07   -2.038184\n",
       "2001-12-08   -0.141314\n",
       "2001-12-09   -0.647767\n",
       "2001-12-10    1.493117\n",
       "2001-12-11    0.125057\n",
       "2001-12-12   -0.350613\n",
       "2001-12-13    2.299676\n",
       "2001-12-14    0.415652\n",
       "2001-12-15    0.826278\n",
       "2001-12-16   -1.322387\n",
       "2001-12-17   -0.145445\n",
       "2001-12-18    0.292482\n",
       "2001-12-19   -0.029976\n",
       "2001-12-20   -1.085414\n",
       "2001-12-21    0.371832\n",
       "2001-12-22   -0.343660\n",
       "2001-12-23   -0.810756\n",
       "2001-12-24   -0.116715\n",
       "2001-12-25    0.936323\n",
       "2001-12-26    0.022150\n",
       "2001-12-27    1.188481\n",
       "2001-12-28    1.483375\n",
       "2001-12-29   -0.613733\n",
       "2001-12-30    0.390163\n",
       "2001-12-31    0.882513\n",
       "Freq: D, Length: 365, dtype: float64"
      ]
     },
     "execution_count": 36,
     "metadata": {},
     "output_type": "execute_result"
    }
   ],
   "source": [
    "longer_ts['2001']"
   ]
  },
  {
   "cell_type": "code",
   "execution_count": 37,
   "metadata": {},
   "outputs": [],
   "source": [
    "rng = pd.date_range('2000-01-01', periods=100, freq='D')"
   ]
  },
  {
   "cell_type": "code",
   "execution_count": 38,
   "metadata": {},
   "outputs": [],
   "source": [
    "ts = pd.Series(np.random.randn(len(rng)), index=rng)"
   ]
  },
  {
   "cell_type": "code",
   "execution_count": 39,
   "metadata": {},
   "outputs": [
    {
     "data": {
      "text/plain": [
       "2000-01-01    0.161474\n",
       "2000-01-02   -1.943573\n",
       "2000-01-03    2.237049\n",
       "2000-01-04    0.219893\n",
       "2000-01-05    0.603738\n",
       "2000-01-06   -0.436215\n",
       "2000-01-07   -1.116236\n",
       "2000-01-08    0.883535\n",
       "2000-01-09   -0.392750\n",
       "2000-01-10    0.041385\n",
       "2000-01-11   -0.947804\n",
       "2000-01-12   -0.134664\n",
       "2000-01-13   -0.365673\n",
       "2000-01-14   -0.114925\n",
       "2000-01-15    0.751976\n",
       "2000-01-16   -0.832066\n",
       "2000-01-17   -0.569673\n",
       "2000-01-18    0.074215\n",
       "2000-01-19   -0.237958\n",
       "2000-01-20    0.660741\n",
       "2000-01-21    0.574287\n",
       "2000-01-22   -1.138824\n",
       "2000-01-23    0.427139\n",
       "2000-01-24   -1.132702\n",
       "2000-01-25    0.132346\n",
       "2000-01-26    0.723271\n",
       "2000-01-27   -1.353407\n",
       "2000-01-28    0.096429\n",
       "2000-01-29    1.486024\n",
       "2000-01-30   -1.340392\n",
       "                ...   \n",
       "2000-03-11    0.679860\n",
       "2000-03-12   -0.329076\n",
       "2000-03-13   -0.333969\n",
       "2000-03-14   -0.182531\n",
       "2000-03-15    1.075154\n",
       "2000-03-16   -0.204249\n",
       "2000-03-17    0.613544\n",
       "2000-03-18    0.386192\n",
       "2000-03-19    0.796217\n",
       "2000-03-20    0.412008\n",
       "2000-03-21    0.308948\n",
       "2000-03-22   -0.813597\n",
       "2000-03-23   -1.028589\n",
       "2000-03-24    0.345082\n",
       "2000-03-25    1.567107\n",
       "2000-03-26   -0.661617\n",
       "2000-03-27   -0.691557\n",
       "2000-03-28   -1.855522\n",
       "2000-03-29    1.613772\n",
       "2000-03-30    0.002177\n",
       "2000-03-31    0.932605\n",
       "2000-04-01   -0.461988\n",
       "2000-04-02    0.186356\n",
       "2000-04-03   -0.182502\n",
       "2000-04-04    0.653716\n",
       "2000-04-05    0.405317\n",
       "2000-04-06   -1.802883\n",
       "2000-04-07    0.221045\n",
       "2000-04-08    0.259886\n",
       "2000-04-09    1.134011\n",
       "Freq: D, Length: 100, dtype: float64"
      ]
     },
     "execution_count": 39,
     "metadata": {},
     "output_type": "execute_result"
    }
   ],
   "source": [
    "ts"
   ]
  },
  {
   "cell_type": "code",
   "execution_count": 40,
   "metadata": {},
   "outputs": [
    {
     "data": {
      "text/plain": [
       "2000-01-31   -0.132869\n",
       "2000-02-29    0.019530\n",
       "2000-03-31    0.081953\n",
       "2000-04-30    0.045884\n",
       "Freq: M, dtype: float64"
      ]
     },
     "execution_count": 40,
     "metadata": {},
     "output_type": "execute_result"
    }
   ],
   "source": [
    "ts.resample('M').mean()"
   ]
  },
  {
   "cell_type": "code",
   "execution_count": 41,
   "metadata": {},
   "outputs": [
    {
     "data": {
      "text/plain": [
       "2000-01   -0.132869\n",
       "2000-02    0.019530\n",
       "2000-03    0.081953\n",
       "2000-04    0.045884\n",
       "Freq: M, dtype: float64"
      ]
     },
     "execution_count": 41,
     "metadata": {},
     "output_type": "execute_result"
    }
   ],
   "source": [
    "ts.resample('M', kind='period').mean()"
   ]
  },
  {
   "cell_type": "code",
   "execution_count": 42,
   "metadata": {},
   "outputs": [
    {
     "data": {
      "text/plain": [
       "2000-01-31   -0.132869\n",
       "2000-02-29    0.019530\n",
       "2000-03-31    0.081953\n",
       "2000-04-30    0.045884\n",
       "Freq: M, dtype: float64"
      ]
     },
     "execution_count": 42,
     "metadata": {},
     "output_type": "execute_result"
    }
   ],
   "source": [
    "ts.resample('M').mean()"
   ]
  },
  {
   "cell_type": "code",
   "execution_count": 43,
   "metadata": {},
   "outputs": [],
   "source": [
    "rng = pd.date_range('2000-01-01', periods=12, freq='T')"
   ]
  },
  {
   "cell_type": "code",
   "execution_count": 44,
   "metadata": {},
   "outputs": [],
   "source": [
    "ts = pd.Series(np.arange(12), index=rng)\n"
   ]
  },
  {
   "cell_type": "code",
   "execution_count": 45,
   "metadata": {},
   "outputs": [
    {
     "data": {
      "text/plain": [
       "2000-01-01 00:00:00     0\n",
       "2000-01-01 00:01:00     1\n",
       "2000-01-01 00:02:00     2\n",
       "2000-01-01 00:03:00     3\n",
       "2000-01-01 00:04:00     4\n",
       "2000-01-01 00:05:00     5\n",
       "2000-01-01 00:06:00     6\n",
       "2000-01-01 00:07:00     7\n",
       "2000-01-01 00:08:00     8\n",
       "2000-01-01 00:09:00     9\n",
       "2000-01-01 00:10:00    10\n",
       "2000-01-01 00:11:00    11\n",
       "Freq: T, dtype: int64"
      ]
     },
     "execution_count": 45,
     "metadata": {},
     "output_type": "execute_result"
    }
   ],
   "source": [
    "ts"
   ]
  },
  {
   "cell_type": "code",
   "execution_count": 46,
   "metadata": {},
   "outputs": [
    {
     "data": {
      "text/plain": [
       "1999-12-31 23:55:00     0\n",
       "2000-01-01 00:00:00    15\n",
       "2000-01-01 00:05:00    40\n",
       "2000-01-01 00:10:00    11\n",
       "Freq: 5T, dtype: int64"
      ]
     },
     "execution_count": 46,
     "metadata": {},
     "output_type": "execute_result"
    }
   ],
   "source": [
    "ts.resample('5min', closed='right').sum()"
   ]
  },
  {
   "cell_type": "code",
   "execution_count": 47,
   "metadata": {},
   "outputs": [
    {
     "data": {
      "text/plain": [
       "1999-12-31 23:55:00     0\n",
       "2000-01-01 00:00:00    15\n",
       "2000-01-01 00:05:00    40\n",
       "2000-01-01 00:10:00    11\n",
       "Freq: 5T, dtype: int64"
      ]
     },
     "execution_count": 47,
     "metadata": {},
     "output_type": "execute_result"
    }
   ],
   "source": [
    "ts.resample('5min', closed='right').sum()"
   ]
  },
  {
   "cell_type": "code",
   "execution_count": null,
   "metadata": {},
   "outputs": [],
   "source": []
  }
 ],
 "metadata": {
  "kernelspec": {
   "display_name": "Python 3",
   "language": "python",
   "name": "python3"
  },
  "language_info": {
   "codemirror_mode": {
    "name": "ipython",
    "version": 3
   },
   "file_extension": ".py",
   "mimetype": "text/x-python",
   "name": "python",
   "nbconvert_exporter": "python",
   "pygments_lexer": "ipython3",
   "version": "3.7.2"
  }
 },
 "nbformat": 4,
 "nbformat_minor": 2
}
